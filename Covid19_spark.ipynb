{
 "cells": [
  {
   "cell_type": "code",
   "execution_count": 1,
   "id": "25ccc127-89e0-4982-8929-0142d81592c0",
   "metadata": {},
   "outputs": [],
   "source": [
    "from pyspark.sql import SparkSession\n",
    "from pyspark.sql.functions import col, sum, avg, max, min, count, round"
   ]
  },
  {
   "cell_type": "code",
   "execution_count": 6,
   "id": "7e252c74-c548-4f2b-90f2-91bb8ea7008e",
   "metadata": {},
   "outputs": [],
   "source": [
    "spark = SparkSession.builder.appName(\"CovidAnalysis\").getOrCreate()"
   ]
  },
  {
   "cell_type": "code",
   "execution_count": 70,
   "id": "407bda55-85c6-4875-aaa9-15526a802dcf",
   "metadata": {},
   "outputs": [
    {
     "name": "stdout",
     "output_type": "stream",
     "text": [
      "country wise Schema: \n",
      "root\n",
      " |-- Country/Region: string (nullable = true)\n",
      " |-- Confirmed: integer (nullable = true)\n",
      " |-- Deaths: integer (nullable = true)\n",
      " |-- Recovered: integer (nullable = true)\n",
      " |-- Active: integer (nullable = true)\n",
      " |-- New cases: integer (nullable = true)\n",
      " |-- New deaths: integer (nullable = true)\n",
      " |-- New recovered: integer (nullable = true)\n",
      " |-- Deaths / 100 Cases: double (nullable = true)\n",
      " |-- Recovered / 100 Cases: double (nullable = true)\n",
      " |-- Deaths / 100 Recovered: string (nullable = true)\n",
      " |-- Confirmed last week: integer (nullable = true)\n",
      " |-- 1 week change: integer (nullable = true)\n",
      " |-- 1 week % increase: double (nullable = true)\n",
      " |-- WHO Region: string (nullable = true)\n",
      "\n",
      "worldometer Schema: \n",
      "root\n",
      " |-- Country/Region: string (nullable = true)\n",
      " |-- Continent: string (nullable = true)\n",
      " |-- Population: integer (nullable = true)\n",
      " |-- TotalCases: integer (nullable = true)\n",
      " |-- NewCases: integer (nullable = true)\n",
      " |-- TotalDeaths: integer (nullable = true)\n",
      " |-- NewDeaths: integer (nullable = true)\n",
      " |-- TotalRecovered: integer (nullable = true)\n",
      " |-- NewRecovered: integer (nullable = true)\n",
      " |-- ActiveCases: integer (nullable = true)\n",
      " |-- Serious,Critical: integer (nullable = true)\n",
      " |-- Tot Cases/1M pop: integer (nullable = true)\n",
      " |-- Deaths/1M pop: double (nullable = true)\n",
      " |-- TotalTests: integer (nullable = true)\n",
      " |-- Tests/1M pop: integer (nullable = true)\n",
      " |-- WHO Region: string (nullable = true)\n",
      "\n"
     ]
    }
   ],
   "source": [
    "country_wise_df = spark.read.option(\"header\", True).option(\"inferSchema\", True).csv(\"hdfs://localhost:9000/user/yash1122/DataSet/Covid-19-dataset/country_wise_latest.csv\")\n",
    "full_grouped_df = spark.read.option(\"header\", True).option(\"inferSchema\", True).csv(\"hdfs://localhost:9000/user/yash1122/DataSet/Covid-19-dataset/full_grouped.csv\")\n",
    "day_wise_df = spark.read.option(\"header\", True).option(\"inferSchema\", True).csv(\"hdfs://localhost:9000/user/yash1122/DataSet/Covid-19-dataset/day_wise.csv\")\n",
    "worldometer_df = spark.read.option(\"header\", True).option(\"inferSchema\", True).csv(\"hdfs://localhost:9000/user/yash1122/DataSet/Covid-19-dataset/worldometer_data.csv\")\n",
    "\n",
    "\n",
    "print(\"country wise Schema: \")\n",
    "country_wise_df.printSchema()\n",
    "\n",
    "print(\"worldometer Schema: \")\n",
    "worldometer_df.printSchema()"
   ]
  },
  {
   "cell_type": "code",
   "execution_count": 12,
   "id": "1c1cc69b-efb9-40e5-bd24-52c4a74b78bb",
   "metadata": {},
   "outputs": [
    {
     "name": "stdout",
     "output_type": "stream",
     "text": [
      "+-------+--------------+-------------+--------------------+----------------+------------------+------------------+-----------------+------------------+-----------------+------------------+------------------+------------------+-----------------+------------------+------------------+--------------+\n",
      "|summary|Country/Region|    Continent|          Population|      TotalCases|          NewCases|       TotalDeaths|        NewDeaths|    TotalRecovered|     NewRecovered|       ActiveCases|  Serious,Critical|  Tot Cases/1M pop|    Deaths/1M pop|        TotalTests|      Tests/1M pop|    WHO Region|\n",
      "+-------+--------------+-------------+--------------------+----------------+------------------+------------------+-----------------+------------------+-----------------+------------------+------------------+------------------+-----------------+------------------+------------------+--------------+\n",
      "|  count|           209|          208|                 208|             209|                 4|               188|                3|               205|                3|               205|               122|               208|              187|               191|               191|           184|\n",
      "|   mean|          NULL|         NULL|3.0415486971153848E7|91718.4976076555|            1980.5| 3792.590425531915|            300.0|58878.980487804874|           1706.0| 27664.32682926829| 534.3934426229508|3196.0240384615386|98.68117647058823|1402404.7015706806|  83959.3664921466|          NULL|\n",
      "| stddev|          NULL|         NULL|1.0476609948117347E8|432586.680941832|3129.6114242293193|15487.184877168187|451.1995124110841|256698.40689837997|2154.779803135346|174632.73692792188|2047.5186133519674| 5191.986456701241|174.9568620893644|  5553366.67043168|152730.59123995784|          NULL|\n",
      "|    min|   Afghanistan|       Africa|                 801|              10|                20|                 1|                1|                 7|               42|                 0|                 1|                 3|             0.08|                61|                 4|        Africa|\n",
      "|    max|      Zimbabwe|South America|          1381344997|         5032179|              6590|            162804|              819|           2576668|             4140|           2292707|             18296|             39922|           1238.0|          63139605|            995282|WesternPacific|\n",
      "+-------+--------------+-------------+--------------------+----------------+------------------+------------------+-----------------+------------------+-----------------+------------------+------------------+------------------+-----------------+------------------+------------------+--------------+\n",
      "\n"
     ]
    }
   ],
   "source": [
    "worldometer_df.describe().show()"
   ]
  },
  {
   "cell_type": "code",
   "execution_count": 86,
   "id": "402a7d82-baad-4b96-bd76-1e5c861bec9f",
   "metadata": {},
   "outputs": [],
   "source": [
    "country_wise_df.createOrReplaceTempView(\"country_wise\")\n",
    "full_grouped_df.createOrReplaceTempView(\"full_grouped\")\n",
    "day_wise_df.createOrReplaceTempView(\"day_wise\")\n",
    "worldometer_df.createOrReplaceTempView(\"worldometer\")"
   ]
  },
  {
   "cell_type": "code",
   "execution_count": 14,
   "id": "8b261705-4fee-4492-ae7c-dbbf7349e1f3",
   "metadata": {},
   "outputs": [
    {
     "name": "stdout",
     "output_type": "stream",
     "text": [
      "+-----------------+---------------+------------+---------------+\n",
      "|        Continent|Total_Confirmed|Total_Deaths|Total_Recovered|\n",
      "+-----------------+---------------+------------+---------------+\n",
      "|           Europe|        2982576|      205232|        1587302|\n",
      "|           Africa|        1011867|       22114|         693620|\n",
      "|             NULL|            712|          13|            651|\n",
      "|Australia/Oceania|          21735|         281|          12620|\n",
      "|    North America|        5919209|      229855|        3151678|\n",
      "|    South America|        4543273|      154885|        3116150|\n",
      "|             Asia|        4689794|      100627|        3508170|\n",
      "+-----------------+---------------+------------+---------------+\n",
      "\n"
     ]
    }
   ],
   "source": [
    "#Q1: Regional Summary\n",
    "\n",
    "regional_summary = worldometer_df.groupBy(\"Continent\").agg(\n",
    "    sum(\"TotalCases\").alias(\"Total_Confirmed\"),\n",
    "    sum(\"TotalDeaths\").alias(\"Total_Deaths\"),\n",
    "    sum(\"TotalRecovered\").alias(\"Total_Recovered\")\n",
    ")\n",
    "\n",
    "regional_summary.show()"
   ]
  },
  {
   "cell_type": "code",
   "execution_count": 16,
   "id": "0eb3ecda-e7d6-435c-af9f-f3d5be974762",
   "metadata": {},
   "outputs": [],
   "source": [
    "clean_df = worldometer_df.na.drop(subset=[\"Continent\"])"
   ]
  },
  {
   "cell_type": "code",
   "execution_count": 18,
   "id": "97667028-2918-4d38-8ff5-65d7ccb15014",
   "metadata": {},
   "outputs": [
    {
     "name": "stdout",
     "output_type": "stream",
     "text": [
      "+-----------------+---------------+------------+---------------+\n",
      "|        Continent|Total_Confirmed|Total_Deaths|Total_Recovered|\n",
      "+-----------------+---------------+------------+---------------+\n",
      "|           Europe|        2982576|      205232|        1587302|\n",
      "|           Africa|        1011867|       22114|         693620|\n",
      "|Australia/Oceania|          21735|         281|          12620|\n",
      "|    North America|        5919209|      229855|        3151678|\n",
      "|    South America|        4543273|      154885|        3116150|\n",
      "|             Asia|        4689794|      100627|        3508170|\n",
      "+-----------------+---------------+------------+---------------+\n",
      "\n"
     ]
    }
   ],
   "source": [
    "#Q1: Regional Summary\n",
    "\n",
    "regional_summary = clean_df.groupBy(\"Continent\").agg(\n",
    "    sum(\"TotalCases\").alias(\"Total_Confirmed\"),\n",
    "    sum(\"TotalDeaths\").alias(\"Total_Deaths\"),\n",
    "    sum(\"TotalRecovered\").alias(\"Total_Recovered\")\n",
    ")\n",
    "\n",
    "regional_summary.show()"
   ]
  },
  {
   "cell_type": "code",
   "execution_count": 20,
   "id": "008d1ced-c734-42e7-be89-c80c89b4d5aa",
   "metadata": {},
   "outputs": [
    {
     "name": "stdout",
     "output_type": "stream",
     "text": [
      "Number of nulls in 'Continent': 1\n",
      "Number of nulls in 'NewRecovered': 206\n"
     ]
    }
   ],
   "source": [
    "null_count_in_Continent = worldometer_df.filter(col(\"Continent\").isNull()).count()\n",
    "null_count_in_Total_Confirmed = worldometer_df.filter(col(\"NewRecovered\").isNull()).count()\n",
    "\n",
    "print(f\"Number of nulls in 'Continent': {null_count_in_Continent}\")\n",
    "print(f\"Number of nulls in 'NewRecovered': {null_count_in_Total_Confirmed}\")"
   ]
  },
  {
   "cell_type": "code",
   "execution_count": 21,
   "id": "17277c95-36d7-4f7c-9033-39349b5f3f15",
   "metadata": {},
   "outputs": [
    {
     "name": "stdout",
     "output_type": "stream",
     "text": [
      "country wise Schema: \n",
      "root\n",
      " |-- Country/Region: string (nullable = true)\n",
      " |-- Confirmed: integer (nullable = true)\n",
      " |-- Deaths: integer (nullable = true)\n",
      " |-- Recovered: integer (nullable = true)\n",
      " |-- Active: integer (nullable = true)\n",
      " |-- New cases: integer (nullable = true)\n",
      " |-- New deaths: integer (nullable = true)\n",
      " |-- New recovered: integer (nullable = true)\n",
      " |-- Deaths / 100 Cases: double (nullable = true)\n",
      " |-- Recovered / 100 Cases: double (nullable = true)\n",
      " |-- Deaths / 100 Recovered: string (nullable = true)\n",
      " |-- Confirmed last week: integer (nullable = true)\n",
      " |-- 1 week change: integer (nullable = true)\n",
      " |-- 1 week % increase: double (nullable = true)\n",
      " |-- WHO Region: string (nullable = true)\n",
      "\n"
     ]
    }
   ],
   "source": [
    "print(\"country wise Schema: \")\n",
    "country_wise_df.printSchema()"
   ]
  },
  {
   "cell_type": "code",
   "execution_count": 24,
   "id": "660dbf85-3962-4827-a8b1-d74f02542195",
   "metadata": {},
   "outputs": [
    {
     "name": "stdout",
     "output_type": "stream",
     "text": [
      "+--------------+---------------------+\n",
      "|Country/Region|Recovered / 100 Cases|\n",
      "+--------------+---------------------+\n",
      "|      Holy See|                100.0|\n",
      "|       Grenada|                100.0|\n",
      "|      Dominica|                100.0|\n",
      "|      Djibouti|                98.38|\n",
      "|       Iceland|                98.33|\n",
      "|        Brunei|                97.87|\n",
      "|   New Zealand|                97.24|\n",
      "|         Qatar|                97.02|\n",
      "|      Malaysia|                 96.6|\n",
      "|     Mauritius|                96.51|\n",
      "+--------------+---------------------+\n",
      "\n"
     ]
    }
   ],
   "source": [
    "#Q2: Top 10 Countries by COVID-19 Recovery Rates\n",
    "\n",
    "top_10_recovery = country_wise_df.orderBy(col(\"Recovered / 100 Cases\").desc()).select(\"Country/Region\", \"Recovered / 100 Cases\").limit(10)\n",
    "top_10_recovery.show()"
   ]
  },
  {
   "cell_type": "code",
   "execution_count": 26,
   "id": "3d47a505-c3b5-427f-b568-3308e7805d69",
   "metadata": {},
   "outputs": [
    {
     "name": "stdout",
     "output_type": "stream",
     "text": [
      "+--------------+---------------------+------------------+\n",
      "|Country/Region|Recovered / 100 Cases|Deaths / 100 Cases|\n",
      "+--------------+---------------------+------------------+\n",
      "|      Dominica|                100.0|               0.0|\n",
      "|       Grenada|                100.0|               0.0|\n",
      "|      Holy See|                100.0|               0.0|\n",
      "|      Djibouti|                98.38|              1.15|\n",
      "|       Iceland|                98.33|              0.54|\n",
      "|        Brunei|                97.87|              2.13|\n",
      "|   New Zealand|                97.24|              1.41|\n",
      "|         Qatar|                97.02|              0.15|\n",
      "|      Malaysia|                 96.6|              1.39|\n",
      "|     Mauritius|                96.51|              2.91|\n",
      "|        Norway|                95.84|              2.79|\n",
      "|       Taiwan*|                95.24|              1.52|\n",
      "|          Laos|                 95.0|               0.0|\n",
      "|         Malta|                94.86|              1.28|\n",
      "|       Estonia|                94.54|              3.39|\n",
      "|      Thailand|                94.36|              1.76|\n",
      "| Liechtenstein|                94.19|              1.16|\n",
      "|    San Marino|                93.99|              6.01|\n",
      "|       Finland|                93.54|              4.45|\n",
      "|     Greenland|                92.86|               0.0|\n",
      "+--------------+---------------------+------------------+\n",
      "only showing top 20 rows\n",
      "\n"
     ]
    }
   ],
   "source": [
    "#Q3 Comparison of Recovery and Fatality Rates by Country\n",
    "\n",
    "recovery_fatality_comparison = country_wise_df.select(\n",
    "    \"Country/Region\",\n",
    "    \"Recovered / 100 Cases\",\n",
    "    \"Deaths / 100 Cases\"\n",
    ").orderBy(col(\"Recovered / 100 Cases\").desc())\n",
    "\n",
    "recovery_fatality_comparison.show()\n"
   ]
  },
  {
   "cell_type": "code",
   "execution_count": 28,
   "id": "d389fc9b-e213-4bef-9fb1-ab07ba69cad7",
   "metadata": {},
   "outputs": [
    {
     "name": "stdout",
     "output_type": "stream",
     "text": [
      "+--------------+------+\n",
      "|Country/Region|Deaths|\n",
      "+--------------+------+\n",
      "|      Dominica|     0|\n",
      "|      Mongolia|     0|\n",
      "|       Eritrea|     0|\n",
      "|        Bhutan|     0|\n",
      "|      Cambodia|     0|\n",
      "|          Fiji|     0|\n",
      "|     Greenland|     0|\n",
      "|       Grenada|     0|\n",
      "|      Holy See|     0|\n",
      "|          Laos|     0|\n",
      "+--------------+------+\n",
      "\n"
     ]
    }
   ],
   "source": [
    "#Q:4  Countries with the Lowest Number of COVID-19 Deaths\n",
    "\n",
    "lowest_deaths = country_wise_df.orderBy(col(\"Deaths\").asc()).select(\"Country/Region\", \"Deaths\").filter(col(\"Deaths\").isNotNull()).limit(10)\n",
    "lowest_deaths.show()\n"
   ]
  },
  {
   "cell_type": "code",
   "execution_count": 30,
   "id": "641340f9-9209-41c6-8d13-b65606f4c1b5",
   "metadata": {},
   "outputs": [
    {
     "name": "stdout",
     "output_type": "stream",
     "text": [
      "+--------------+------+\n",
      "|Country/Region|Deaths|\n",
      "+--------------+------+\n",
      "|            US|148011|\n",
      "|        Brazil| 87618|\n",
      "|United Kingdom| 45844|\n",
      "|        Mexico| 44022|\n",
      "|         Italy| 35112|\n",
      "|         India| 33408|\n",
      "|        France| 30212|\n",
      "|         Spain| 28432|\n",
      "|          Peru| 18418|\n",
      "|          Iran| 15912|\n",
      "+--------------+------+\n",
      "\n"
     ]
    }
   ],
   "source": [
    "#Q:5 Countries with the Highest Number of COVID-19 Cases\n",
    "\n",
    "lowest_deaths = country_wise_df.orderBy(col(\"Deaths\").desc()).select(\"Country/Region\", \"Deaths\").filter(col(\"Deaths\").isNotNull()).limit(10)\n",
    "lowest_deaths.show()\n"
   ]
  },
  {
   "cell_type": "code",
   "execution_count": 32,
   "id": "2fc9de11-0561-4e72-8a34-c25cd5ccfcf2",
   "metadata": {},
   "outputs": [
    {
     "name": "stdout",
     "output_type": "stream",
     "text": [
      "Global Recovery Rate (%):\n",
      "+-------------------------------+\n",
      "|Global_Recovery_Rate_Percentage|\n",
      "+-------------------------------+\n",
      "|               62.9666987077059|\n",
      "+-------------------------------+\n",
      "\n"
     ]
    }
   ],
   "source": [
    "# Q6: Global Recovery Rate\n",
    "global_recovery_rate = worldometer_df.agg(\n",
    "    (sum(\"TotalRecovered\") / sum(\"TotalCases\") * 100).alias(\"Global_Recovery_Rate_Percentage\")\n",
    ")\n",
    "\n",
    "print(\"Global Recovery Rate (%):\")\n",
    "global_recovery_rate.show()\n"
   ]
  },
  {
   "cell_type": "code",
   "execution_count": 34,
   "id": "769a7340-82e7-46c7-b1d9-3cddfb222bc1",
   "metadata": {},
   "outputs": [
    {
     "name": "stdout",
     "output_type": "stream",
     "text": [
      "COVID-19 Trends by Continent:\n",
      "+-----------------+-----------+------------+---------------+\n",
      "|        Continent|Total_Cases|Total_Deaths|Total_Recovered|\n",
      "+-----------------+-----------+------------+---------------+\n",
      "|    North America|    5919209|      229855|        3151678|\n",
      "|             Asia|    4689794|      100627|        3508170|\n",
      "|    South America|    4543273|      154885|        3116150|\n",
      "|           Europe|    2982576|      205232|        1587302|\n",
      "|           Africa|    1011867|       22114|         693620|\n",
      "|Australia/Oceania|      21735|         281|          12620|\n",
      "|             NULL|        712|          13|            651|\n",
      "+-----------------+-----------+------------+---------------+\n",
      "\n"
     ]
    }
   ],
   "source": [
    "# Q2: COVID-19 Trends By Continent\n",
    "covid_trends_continent = worldometer_df.groupBy(\"Continent\").agg(\n",
    "    sum(\"TotalCases\").alias(\"Total_Cases\"),\n",
    "    sum(\"TotalDeaths\").alias(\"Total_Deaths\"),\n",
    "    sum(\"TotalRecovered\").alias(\"Total_Recovered\")\n",
    ").orderBy(col(\"Total_Cases\").desc())\n",
    "\n",
    "print(\"COVID-19 Trends by Continent:\")\n",
    "covid_trends_continent.show()\n"
   ]
  },
  {
   "cell_type": "code",
   "execution_count": 36,
   "id": "5d0d33c2-8525-4d6e-bbaa-a698bbb3b947",
   "metadata": {},
   "outputs": [
    {
     "name": "stdout",
     "output_type": "stream",
     "text": [
      "Continent with the Lowest Total Cases:\n",
      "+---------+-----------+\n",
      "|Continent|Total_Cases|\n",
      "+---------+-----------+\n",
      "|     NULL|        712|\n",
      "+---------+-----------+\n",
      "\n"
     ]
    }
   ],
   "source": [
    "# Q8: Continent That Has The Lowest Cases\n",
    "lowest_cases_continent = worldometer_df.groupBy(\"Continent\").agg(\n",
    "    sum(\"TotalCases\").alias(\"Total_Cases\")\n",
    ").orderBy(col(\"Total_Cases\").asc()).limit(1)\n",
    "\n",
    "print(\"Continent with the Lowest Total Cases:\")\n",
    "lowest_cases_continent.show()\n"
   ]
  },
  {
   "cell_type": "code",
   "execution_count": 38,
   "id": "43387069-49c5-4aa0-adc8-2b57281848ff",
   "metadata": {},
   "outputs": [
    {
     "name": "stdout",
     "output_type": "stream",
     "text": [
      "Recovery Rate by Continent (%):\n",
      "+-----------------+------------------------+\n",
      "|        Continent|Recovery_Rate_Percentage|\n",
      "+-----------------+------------------------+\n",
      "|             NULL|                   91.43|\n",
      "|             Asia|                    74.8|\n",
      "|    South America|                   68.59|\n",
      "|           Africa|                   68.55|\n",
      "|Australia/Oceania|                   58.06|\n",
      "|    North America|                   53.24|\n",
      "|           Europe|                   53.22|\n",
      "+-----------------+------------------------+\n",
      "\n"
     ]
    }
   ],
   "source": [
    "# Q9: Recovery Rate by Continent\n",
    "recovery_rate_continent = worldometer_df.groupBy(\"Continent\").agg(\n",
    "    round((sum(\"TotalRecovered\") / sum(\"TotalCases\")) * 100, 2).alias(\"Recovery_Rate_Percentage\")\n",
    ").orderBy(col(\"Recovery_Rate_Percentage\").desc())\n",
    "\n",
    "print(\"Recovery Rate by Continent (%):\")\n",
    "recovery_rate_continent.show()\n"
   ]
  },
  {
   "cell_type": "code",
   "execution_count": 80,
   "id": "a918a8df-f7d3-420c-b18a-6cc7664f9078",
   "metadata": {},
   "outputs": [
    {
     "name": "stdout",
     "output_type": "stream",
     "text": [
      "+-----------------------+\n",
      "|global_death_percentage|\n",
      "+-----------------------+\n",
      "|       5.23650680018023|\n",
      "+-----------------------+\n",
      "\n",
      "+-------------------+------------------------+\n",
      "|     Country/Region|country_death_percentage|\n",
      "+-------------------+------------------------+\n",
      "|              Yemen|       26.35754688895505|\n",
      "|            Belgium|       15.34248054008237|\n",
      "|     United Kingdom|       14.94574274147640|\n",
      "|             France|       14.37242296729525|\n",
      "|              Italy|       13.86314039426595|\n",
      "|            Hungary|       12.88413540039420|\n",
      "|        Netherlands|       12.04280741462629|\n",
      "|             Mexico|       11.56331889532873|\n",
      "|              Spain|       11.06781863772301|\n",
      "|            Bahamas|        9.94214876033058|\n",
      "|             Sweden|        9.02671540831182|\n",
      "|               Chad|        8.59932114719895|\n",
      "|             Belize|        8.42185128983308|\n",
      "|             Canada|        7.47675078135095|\n",
      "|            Ecuador|        7.40874845249413|\n",
      "|Antigua and Barbuda|        7.26543347448184|\n",
      "|             Guyana|        7.05118130860705|\n",
      "|     Western Sahara|        6.99223085460599|\n",
      "|           Barbados|        6.92827638002253|\n",
      "|         San Marino|        6.78594777782225|\n",
      "+-------------------+------------------------+\n",
      "only showing top 20 rows\n",
      "\n"
     ]
    }
   ],
   "source": [
    "#Q10: To find out the death percentage locally and globally\n",
    "df_global = spark.sql(\"\"\"\n",
    "SELECT \n",
    "    SUM(`Deaths`) * 100.0 / NULLIF(SUM(`Confirmed`), 0) AS global_death_percentage\n",
    "FROM day_wise;\n",
    "\n",
    "\"\"\")\n",
    "df_global.show()\n",
    "\n",
    "\n",
    "df_local = spark.sql(\"\"\"\n",
    "SELECT \n",
    "    `Country/Region`, \n",
    "    SUM(`Deaths`) * 100.0 / NULLIF(SUM(`Confirmed`), 0) AS country_death_percentage\n",
    "FROM full_grouped\n",
    "GROUP BY `Country/Region`\n",
    "ORDER BY country_death_percentage DESC; \n",
    "\"\"\")\n",
    "df_local.show()\n"
   ]
  },
  {
   "cell_type": "code",
   "execution_count": 100,
   "id": "e9f7d198-52bf-4534-9f18-a054108414b1",
   "metadata": {},
   "outputs": [
    {
     "name": "stdout",
     "output_type": "stream",
     "text": [
      "+---------------------------+\n",
      "|global_infection_percentage|\n",
      "+---------------------------+\n",
      "|           0.30300173069884|\n",
      "+---------------------------+\n",
      "\n",
      "+--------------+----------------------------+\n",
      "|Country/Region|country_infection_percentage|\n",
      "+--------------+----------------------------+\n",
      "|         Qatar|              3.992157575045|\n",
      "| French Guiana|              2.714564857959|\n",
      "|       Bahrain|              2.513023907975|\n",
      "|    San Marino|              2.059638163710|\n",
      "|         Chile|              1.916481022828|\n",
      "|        Panama|              1.652703989233|\n",
      "|        Kuwait|              1.637844316754|\n",
      "|          Oman|              1.576904396373|\n",
      "|           USA|              1.519386296052|\n",
      "|  Vatican City|              1.498127340824|\n",
      "|          Peru|              1.379345165644|\n",
      "|        Brazil|              1.371610412513|\n",
      "|       Armenia|              1.343506721582|\n",
      "|       Andorra|              1.221563705065|\n",
      "|    Luxembourg|              1.128156541490|\n",
      "|       Mayotte|              1.112578131000|\n",
      "|     Singapore|              0.931778541578|\n",
      "|  South Africa|              0.906314932819|\n",
      "|        Israel|              0.864998331085|\n",
      "|      Maldives|              0.864348931015|\n",
      "+--------------+----------------------------+\n",
      "only showing top 20 rows\n",
      "\n"
     ]
    }
   ],
   "source": [
    "#Q11: To find out the infected population percentage locally and globally\n",
    "\n",
    "global_df = spark.sql(\"\"\"\n",
    "SELECT \n",
    "    SUM(TotalCases) * 100.0 / NULLIF(SUM(Population), 0) AS global_infection_percentage\n",
    "FROM worldometer;\n",
    "\"\"\")\n",
    "global_df.show()\n",
    "\n",
    "\n",
    "local_df = spark.sql(\"\"\"\n",
    "SELECT \n",
    "    `Country/Region`, \n",
    "    SUM(`TotalCases`) * 100.0 / NULLIF(MAX(`Population`), 0) AS country_infection_percentage\n",
    "FROM worldometer\n",
    "GROUP BY `Country/Region`\n",
    "ORDER BY country_infection_percentage DESC;\n",
    "\"\"\")\n",
    "local_df.show()"
   ]
  },
  {
   "cell_type": "code",
   "execution_count": 108,
   "id": "7650226d-7e82-438d-a31d-8f4eeff84a6f",
   "metadata": {},
   "outputs": [
    {
     "name": "stdout",
     "output_type": "stream",
     "text": [
      "+--------------+-----------------------+--------------+\n",
      "|Country/Region|highest_infection_count|infection_rate|\n",
      "+--------------+-----------------------+--------------+\n",
      "|         Qatar|                 112092|3.992157575045|\n",
      "| French Guiana|                   8127|2.714564857959|\n",
      "|       Bahrain|                  42889|2.513023907975|\n",
      "|    San Marino|                    699|2.059638163710|\n",
      "|         Chile|                 366671|1.916481022828|\n",
      "|        Panama|                  71418|1.652703989233|\n",
      "|        Kuwait|                  70045|1.637844316754|\n",
      "|          Oman|                  80713|1.576904396373|\n",
      "|           USA|                5032179|1.519386296052|\n",
      "|  Vatican City|                     12|1.498127340824|\n",
      "+--------------+-----------------------+--------------+\n",
      "\n"
     ]
    }
   ],
   "source": [
    "#Q12: To find out the countries with the highest infection rates\n",
    "high_infection_df = spark.sql(\"\"\"\n",
    "SELECT \n",
    "    `Country/Region`, \n",
    "    MAX(TotalCases) AS highest_infection_count, \n",
    "    MAX(TotalCases) * 100.0 / NULLIF(MAX(Population), 0) AS infection_rate\n",
    "FROM worldometer\n",
    "GROUP BY `Country/Region`\n",
    "ORDER BY infection_rate DESC\n",
    "LIMIT 10;\n",
    "\"\"\")\n",
    "high_infection_df.show()"
   ]
  },
  {
   "cell_type": "code",
   "execution_count": 118,
   "id": "97d8a30f-0b0d-42c1-aade-fb23f31edb96",
   "metadata": {},
   "outputs": [
    {
     "name": "stdout",
     "output_type": "stream",
     "text": [
      "+--------------+-----------+\n",
      "|Country/Region|TotalDeaths|\n",
      "+--------------+-----------+\n",
      "|            US|   11011411|\n",
      "|United Kingdom|    3997775|\n",
      "|        Brazil|    3938034|\n",
      "|         Italy|    3707717|\n",
      "|        France|    3048524|\n",
      "|         Spain|    3033030|\n",
      "|        Mexico|    1728277|\n",
      "|         India|    1111831|\n",
      "|          Iran|    1024136|\n",
      "|       Belgium|     963679|\n",
      "+--------------+-----------+\n",
      "\n",
      "+-----------------+-----------+\n",
      "|        Continent|TotalDeaths|\n",
      "+-----------------+-----------+\n",
      "|    North America|     229855|\n",
      "|           Europe|     205232|\n",
      "|    South America|     154885|\n",
      "|             Asia|     100627|\n",
      "|           Africa|      22114|\n",
      "|Australia/Oceania|        281|\n",
      "|             NULL|         13|\n",
      "+-----------------+-----------+\n",
      "\n"
     ]
    }
   ],
   "source": [
    "#Q13: To find out the countries and continents with the highest death counts\n",
    "country_deaths_df = spark.sql(\"\"\"\n",
    "SELECT \n",
    "    `Country/Region`, \n",
    "    SUM(Deaths) AS TotalDeaths\n",
    "FROM full_grouped\n",
    "GROUP BY `Country/Region`\n",
    "ORDER BY TotalDeaths DESC\n",
    "LIMIT 10;\n",
    "\"\"\")\n",
    "country_deaths_df.show()\n",
    "\n",
    "\n",
    "continents_deaths_df = spark.sql(\"\"\"\n",
    "SELECT \n",
    "    Continent, \n",
    "    SUM(TotalDeaths) AS TotalDeaths\n",
    "FROM worldometer\n",
    "GROUP BY Continent\n",
    "ORDER BY TotalDeaths DESC;\n",
    "\"\"\")\n",
    "continents_deaths_df.show()\n"
   ]
  },
  {
   "cell_type": "code",
   "execution_count": 140,
   "id": "3644bd59-d488-4be7-bf0f-cc9272d75ade",
   "metadata": {},
   "outputs": [
    {
     "name": "stdout",
     "output_type": "stream",
     "text": [
      "+-----------------+\n",
      "| avg_daily_deaths|\n",
      "+-----------------+\n",
      "|3478.824468085106|\n",
      "+-----------------+\n",
      "\n",
      "+--------------+------------------+\n",
      "|Country/Region|  avg_daily_deaths|\n",
      "+--------------+------------------+\n",
      "|            US| 787.2925531914893|\n",
      "|        Brazil| 466.0531914893617|\n",
      "|United Kingdom|243.85106382978722|\n",
      "|        Mexico| 234.1595744680851|\n",
      "|         Italy| 186.7659574468085|\n",
      "|         India|177.70212765957447|\n",
      "|        France|160.70212765957447|\n",
      "|         Spain| 151.2340425531915|\n",
      "|          Peru| 97.96808510638297|\n",
      "|          Iran| 84.63829787234043|\n",
      "|        Russia| 70.92553191489361|\n",
      "|       Belgium|52.244680851063826|\n",
      "|         Chile| 48.86702127659574|\n",
      "|       Germany|48.537234042553195|\n",
      "|        Canada| 47.57446808510638|\n",
      "|      Colombia| 46.68617021276596|\n",
      "|  South Africa|37.590425531914896|\n",
      "|   Netherlands|32.765957446808514|\n",
      "|      Pakistan|31.074468085106382|\n",
      "|        Sweden|30.319148936170212|\n",
      "+--------------+------------------+\n",
      "only showing top 20 rows\n",
      "\n",
      "+-----------------+------------------+\n",
      "|        Continent|  avg_daily_deaths|\n",
      "+-----------------+------------------+\n",
      "|    South America| 11914.23076923077|\n",
      "|    North America| 8209.107142857143|\n",
      "|           Europe| 4560.711111111111|\n",
      "|             Asia|2395.8809523809523|\n",
      "|           Africa|402.07272727272726|\n",
      "|Australia/Oceania|             70.25|\n",
      "|             NULL|              13.0|\n",
      "+-----------------+------------------+\n",
      "\n"
     ]
    }
   ],
   "source": [
    "#Q14: Average number of deaths by day (Continents and Countries)\n",
    "avg_deaths_global_df = spark.sql(\"\"\"\n",
    "SELECT \n",
    "    AVG(`New deaths`) AS avg_daily_deaths\n",
    "FROM day_wise;\n",
    "\"\"\")\n",
    "avg_deaths_global_df.show()\n",
    "\n",
    "\n",
    "avg_deaths_by_countries_df = spark.sql(\"\"\"\n",
    "SELECT \n",
    "    `Country/Region`, \n",
    "    AVG(`New deaths`) AS avg_daily_deaths\n",
    "FROM full_grouped\n",
    "GROUP BY `Country/Region`\n",
    "ORDER BY avg_daily_deaths DESC;\n",
    "\"\"\")\n",
    "avg_deaths_by_countries_df.show()\n",
    "\n",
    "\n",
    "\n",
    "avg_deaths_by_Continents_df = spark.sql(\"\"\"\n",
    "SELECT \n",
    "    Continent, \n",
    "    AVG(`TotalDeaths`) AS avg_daily_deaths\n",
    "FROM worldometer\n",
    "GROUP BY Continent\n",
    "ORDER BY avg_daily_deaths DESC;\n",
    "\"\"\")\n",
    "avg_deaths_by_Continents_df.show()\n"
   ]
  },
  {
   "cell_type": "code",
   "execution_count": 146,
   "id": "e962e41a-f394-418d-b76c-e122b8814cc7",
   "metadata": {},
   "outputs": [
    {
     "name": "stdout",
     "output_type": "stream",
     "text": [
      "+--------------+---------------------+\n",
      "|Country/Region|case_population_ratio|\n",
      "+--------------+---------------------+\n",
      "|         Qatar|       0.039921575750|\n",
      "| French Guiana|       0.027145648580|\n",
      "|       Bahrain|       0.025130239080|\n",
      "|    San Marino|       0.020596381637|\n",
      "|         Chile|       0.019164810228|\n",
      "|        Panama|       0.016527039892|\n",
      "|        Kuwait|       0.016378443168|\n",
      "|          Oman|       0.015769043964|\n",
      "|           USA|       0.015193862961|\n",
      "|  Vatican City|       0.014981273408|\n",
      "+--------------+---------------------+\n",
      "\n"
     ]
    }
   ],
   "source": [
    "#Q15:  Average of cases divided by the number of population of each country (TOP 10)\n",
    "top_10_df = spark.sql(\"\"\"\n",
    "SELECT \n",
    "    `Country/Region`, \n",
    "    MAX(TotalCases) * 1.0 / NULLIF(MAX(Population), 0) AS case_population_ratio\n",
    "FROM worldometer\n",
    "GROUP BY `Country/Region`\n",
    "ORDER BY case_population_ratio DESC\n",
    "LIMIT 10;\n",
    "\"\"\")\n",
    "top_10_df.show()"
   ]
  },
  {
   "cell_type": "code",
   "execution_count": 79,
   "id": "7513297b-bf43-4e96-9b9b-4e31415422a6",
   "metadata": {},
   "outputs": [],
   "source": []
  },
  {
   "cell_type": "code",
   "execution_count": 75,
   "id": "367797ec-b3dd-43b9-8445-f11b343165b6",
   "metadata": {},
   "outputs": [],
   "source": []
  },
  {
   "cell_type": "code",
   "execution_count": null,
   "id": "a63052fb-2f7f-46b9-8850-48f49e7d57c8",
   "metadata": {},
   "outputs": [],
   "source": []
  }
 ],
 "metadata": {
  "kernelspec": {
   "display_name": "Python 3 (ipykernel)",
   "language": "python",
   "name": "python3"
  },
  "language_info": {
   "codemirror_mode": {
    "name": "ipython",
    "version": 3
   },
   "file_extension": ".py",
   "mimetype": "text/x-python",
   "name": "python",
   "nbconvert_exporter": "python",
   "pygments_lexer": "ipython3",
   "version": "3.12.4"
  }
 },
 "nbformat": 4,
 "nbformat_minor": 5
}
